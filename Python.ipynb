{
 "cells": [
  {
   "cell_type": "code",
   "execution_count": 15,
   "metadata": {},
   "outputs": [
    {
     "name": "stdout",
     "output_type": "stream",
     "text": [
      "0.625\n"
     ]
    }
   ],
   "source": [
    "# Lenh in \n",
    "print (5/8)"
   ]
  },
  {
   "cell_type": "code",
   "execution_count": 16,
   "metadata": {},
   "outputs": [
    {
     "name": "stdout",
     "output_type": "stream",
     "text": [
      "17\n"
     ]
    }
   ],
   "source": [
    "print (10+7)"
   ]
  },
  {
   "cell_type": "code",
   "execution_count": 17,
   "metadata": {},
   "outputs": [
    {
     "name": "stdout",
     "output_type": "stream",
     "text": [
      "thao\n"
     ]
    }
   ],
   "source": [
    "#them ghi chu trong pyhton\n",
    "\n",
    "#day la 1 ghi chu\n",
    "print (\"thao\") # in ra thao"
   ]
  },
  {
   "cell_type": "code",
   "execution_count": 18,
   "metadata": {},
   "outputs": [
    {
     "name": "stdout",
     "output_type": "stream",
     "text": [
      "15\n",
      "8\n",
      "60\n",
      "1.6666666666666667\n",
      "16\n",
      "1\n"
     ]
    }
   ],
   "source": [
    "# phep cong\n",
    "print (10+5)\n",
    "\n",
    "# phep tru \n",
    "print (10-2)\n",
    "\n",
    "# phep nhan \n",
    "print (10 * 6)\n",
    "\n",
    "# phep chia\n",
    "print (10/6)\n",
    "\n",
    "# phep luy thua\n",
    "print (4 ** 2)\n",
    "\n",
    "# phep lay du\n",
    "print (3 % 2)\n"
   ]
  },
  {
   "attachments": {},
   "cell_type": "markdown",
   "metadata": {},
   "source": [
    "Bài tập: An có 1000 USD gửi ngân hàng với lãi suất 10% mỗi năm. Hãy viết đoạn code để tính và in ra số tiền mà An nhận được sau 15 năm gửi ngân hàng:"
   ]
  },
  {
   "cell_type": "code",
   "execution_count": 19,
   "metadata": {},
   "outputs": [
    {
     "name": "stdout",
     "output_type": "stream",
     "text": [
      "4177.248169415656\n"
     ]
    }
   ],
   "source": [
    "print (1000 * ((1+0.1)**15))"
   ]
  },
  {
   "attachments": {},
   "cell_type": "markdown",
   "metadata": {},
   "source": [
    "Phần 2: Biến và kiểu dữ liệu"
   ]
  },
  {
   "cell_type": "code",
   "execution_count": 20,
   "metadata": {},
   "outputs": [
    {
     "name": "stdout",
     "output_type": "stream",
     "text": [
      "5\n"
     ]
    }
   ],
   "source": [
    "# gan gia tri 5 cho x\n",
    "x = 5\n",
    "print (x)"
   ]
  },
  {
   "attachments": {},
   "cell_type": "markdown",
   "metadata": {},
   "source": [
    "Bài tập:\n",
    "\n",
    "Khởi tạo biến savings có giá trị bằng 1000\n",
    "In ra giá trị của biến savings"
   ]
  },
  {
   "cell_type": "code",
   "execution_count": 21,
   "metadata": {},
   "outputs": [
    {
     "name": "stdout",
     "output_type": "stream",
     "text": [
      "1000\n"
     ]
    }
   ],
   "source": [
    "savings = 1000\n",
    "print (savings)"
   ]
  },
  {
   "cell_type": "code",
   "execution_count": 22,
   "metadata": {},
   "outputs": [
    {
     "name": "stdout",
     "output_type": "stream",
     "text": [
      "4177.248169415656\n"
     ]
    }
   ],
   "source": [
    "savings = 1000\n",
    "factor = 10/100\n",
    "y = savings * (1+factor)** 15\n",
    "print (y)\n"
   ]
  },
  {
   "attachments": {},
   "cell_type": "markdown",
   "metadata": {},
   "source": [
    "Kiểu dữ liệu\n",
    "int : so nguyen\n",
    "float: so thuc\n",
    "str: xau ( chuoi); duoc khai bao boi: \"\" hoac ''\n",
    "bool: nhan True hoac False"
   ]
  },
  {
   "attachments": {},
   "cell_type": "markdown",
   "metadata": {},
   "source": [
    "Bài tập:\n",
    "\n",
    "Tạo một xâu ký tự desc với giá trị là \"Data Science\"\n",
    "Tạo một biến boolean tên là profitable có giá trị True"
   ]
  },
  {
   "cell_type": "code",
   "execution_count": 23,
   "metadata": {},
   "outputs": [
    {
     "name": "stdout",
     "output_type": "stream",
     "text": [
      "Data Science\n",
      "<class 'str'>\n",
      "True\n",
      "<class 'bool'>\n"
     ]
    }
   ],
   "source": [
    "desc = \"Data Science\"\n",
    "profitable = True\n",
    "print (desc)\n",
    "print (type(desc))\n",
    "print (profitable)\n",
    "print (type(profitable))"
   ]
  },
  {
   "attachments": {},
   "cell_type": "markdown",
   "metadata": {},
   "source": [
    "Bài tập: In ra kiểu dữ liệu của các biến savings, factor, desc và profitable đã khai báo ở các mục trước."
   ]
  },
  {
   "cell_type": "code",
   "execution_count": 25,
   "metadata": {},
   "outputs": [
    {
     "name": "stdout",
     "output_type": "stream",
     "text": [
      "<class 'int'>\n",
      "<class 'float'>\n",
      "<class 'str'>\n",
      "<class 'bool'>\n"
     ]
    }
   ],
   "source": [
    "print (type(savings))\n",
    "print(type(factor))\n",
    "print(type(desc))\n",
    "print(type(profitable))"
   ]
  },
  {
   "attachments": {},
   "cell_type": "markdown",
   "metadata": {},
   "source": [
    "Bài tập: Cho các biến và giá trị của nó trong đoạn code dưới đây. Công việc của bạn là:\n",
    "\n",
    "Tính tích của savings và factor, lưu trữ giá trị vào biến year1.\n",
    "Kiểu dữ liệu của biến year1 là gì? Hãy tự tìm đáp án bằng cách in nó ra.\n",
    "Tính tổng của desc và desc rồi lưu kết quả vào biến doubledesc.\n",
    "Sau đó, in ra giá trị của doubledesc. Kết quả có nằm trong dự đoán của bạn chứ?"
   ]
  },
  {
   "cell_type": "code",
   "execution_count": 27,
   "metadata": {},
   "outputs": [
    {
     "name": "stdout",
     "output_type": "stream",
     "text": [
      "<class 'float'>\n",
      "Data ScienceData Science\n"
     ]
    }
   ],
   "source": [
    "year1 = savings * factor\n",
    "print (type(year1))\n",
    "doubledesc = desc + desc \n",
    "print (doubledesc)\n"
   ]
  },
  {
   "attachments": {},
   "cell_type": "markdown",
   "metadata": {},
   "source": [
    "Bài tập:\n",
    "\n",
    "Hãy chạy đoạn code dưới đây, đọc hiểu lỗi mà trình biên dịch báo và tìm cách sửa code để khắc phục lỗi này.\n",
    "Chuyển giá trị của pi_string sang số thực và gán giá trị đó cho biến pi_float."
   ]
  },
  {
   "cell_type": "code",
   "execution_count": 29,
   "metadata": {},
   "outputs": [
    {
     "name": "stdout",
     "output_type": "stream",
     "text": [
      "Tôi gửi ngân hàng $1000, sau 15 năm, bây giờ tôi đã có $4177.248169415656. Tuyệt vời!\n",
      "3.1415926\n"
     ]
    }
   ],
   "source": [
    "# Khai báo biến savings và result\n",
    "savings = 1000\n",
    "result = 1000 * 1.10 ** 15\n",
    "\n",
    "# Sửa lại lệnh in dưới đây cho đúng\n",
    "print(\"Tôi gửi ngân hàng $\" + str(savings) + \", sau 15 năm, bây giờ tôi đã có $\" + str(result) + \". Tuyệt vời!\")\n",
    "\n",
    "# Khai báo pi_string\n",
    "pi_string = \"3.1415926\"\n",
    "\n",
    "# Chuyển pi_string sang float: pi_float\n",
    "pi_float = float(pi_string)\n",
    "print(pi_float)"
   ]
  },
  {
   "attachments": {},
   "cell_type": "markdown",
   "metadata": {},
   "source": [
    "Phần 3: Danh sách\n",
    "Danh sách (list) là một kiểu dữ liệu đặc biệt, là tổ hợp của các biến thuộc các kiểu dữ liệu khác nhau."
   ]
  },
  {
   "attachments": {},
   "cell_type": "markdown",
   "metadata": {},
   "source": [
    "Bài tập: Bạn đo đạc diện tích các căn phòng trong nhà và lưu kết quả vào các biến ở đoạn code dưới đây. Yêu cầu:\n",
    "\n",
    "Tạo 1 danh sách tên là areas chứa diện tích các phòng và khu vực trong nhà: hành lang (hall), phòng bếp (kit), phòng khách (liv), phòng ngủ (bed) và phòng tắm (bath) theo đúng thứ tự đó.\n",
    "In ra giá trị của areas sử dụng hàm print()."
   ]
  },
  {
   "cell_type": "code",
   "execution_count": 33,
   "metadata": {},
   "outputs": [
    {
     "name": "stdout",
     "output_type": "stream",
     "text": [
      "[11.25, 10, 8.5, 6]\n"
     ]
    }
   ],
   "source": [
    "hall = 11.25\n",
    "kit = 10\n",
    "liv = 8.5\n",
    "bath = 6\n",
    "areas = [hall, kit, liv, bath]\n",
    "print(areas)"
   ]
  },
  {
   "attachments": {},
   "cell_type": "markdown",
   "metadata": {},
   "source": [
    "Bài tập:\n",
    "\n",
    "Thêm đầy đủ tên các phòng vào danh sách areas, mỗi tên phòng đều đứng ngay trước biến chứa diện tích của nó: \"hallway\" cho hall, \"kitchen\" cho kit, \"bedroom\" cho bed.\n",
    "In ra giá trị của areas."
   ]
  },
  {
   "cell_type": "code",
   "execution_count": 34,
   "metadata": {},
   "outputs": [
    {
     "name": "stdout",
     "output_type": "stream",
     "text": [
      "['hallway', 11.25, 'kitchen', 10, 'livingroom', 8.5, 'bathroom', 6]\n"
     ]
    }
   ],
   "source": [
    "areas = [\"hallway\", hall, \"kitchen\", kit, \"livingroom\", liv, \"bathroom\", bath]\n",
    "print(areas)"
   ]
  },
  {
   "attachments": {},
   "cell_type": "markdown",
   "metadata": {},
   "source": [
    " Danh sách cũng là 1 kiểu trong Python, 1 danh sách cũng có thể chứa 1 hoặc nhiều danh sách con trong nó"
   ]
  },
  {
   "cell_type": "code",
   "execution_count": 35,
   "metadata": {},
   "outputs": [
    {
     "name": "stdout",
     "output_type": "stream",
     "text": [
      "[[1, 2, 3], [4, 5, 6], [7, 8, 9]]\n"
     ]
    }
   ],
   "source": [
    "e1 = [1,2,3]\n",
    "e2 = [4,5,6]\n",
    "e3 = [7,8,9]\n",
    "e = [e1, e2, e3]\n",
    "print(e)"
   ]
  },
  {
   "cell_type": "code",
   "execution_count": 36,
   "metadata": {},
   "outputs": [
    {
     "name": "stdout",
     "output_type": "stream",
     "text": [
      "[['hallway', 11.25], ['kitchen', 10], ['livingroom', 8.5], ['bathroom', 6]]\n",
      "<class 'list'>\n"
     ]
    }
   ],
   "source": [
    "house = [[\"hallway\", hall], [\"kitchen\", kit], [\"livingroom\", liv], [\"bathroom\", bath]]\n",
    "print(house)\n",
    "print(type(house))"
   ]
  },
  {
   "attachments": {},
   "cell_type": "markdown",
   "metadata": {},
   "source": [
    "Phần 4: Các thao tác truy cập danh sách\n",
    "Phần tử thứ nhất có chỉ số là 0, phần tử thứ hai có chỉ số là 1,... Trong Python, chúng ta cũng có thể sử dụng chỉ số âm (phần tử cuối cùng trong danh sách có chỉ số là -1, phần tử gần cuối có chỉ số là -2)"
   ]
  },
  {
   "attachments": {},
   "cell_type": "markdown",
   "metadata": {},
   "source": [
    "Bài tập:\n",
    "\n",
    "In ra phần tử thứ 2 của areas (11.25).\n",
    "In ra phần tử cuối cùng của areas (9.5), hãy thử sử dụng chỉ số âm.\n",
    "Tìm chỉ số của phần tử biểu diễn diện tích phòng khách và in ra giá trị của phần tử đó"
   ]
  },
  {
   "cell_type": "code",
   "execution_count": 47,
   "metadata": {},
   "outputs": [
    {
     "name": "stdout",
     "output_type": "stream",
     "text": [
      "11.25\n",
      "9.5\n",
      "20.0\n"
     ]
    }
   ],
   "source": [
    "areas = [\"hallway\", 11.25, \"kitchen\", 18.0, \"living room\", 20.0, \"bedroom\", 10.75, \"bathroom\", 9.50]\n",
    "print (areas[1])\n",
    "print(areas[-1])\n",
    "for i in range(len(areas)):\n",
    "    if (areas[i] == \"living room\"):\n",
    "        print(areas[i + 1])"
   ]
  },
  {
   "cell_type": "code",
   "execution_count": 48,
   "metadata": {},
   "outputs": [
    {
     "name": "stdout",
     "output_type": "stream",
     "text": [
      "bd\n"
     ]
    }
   ],
   "source": [
    "x = [\"a\", \"b\", \"c\", \"d\"]\n",
    "print(x[1] + x[3])"
   ]
  },
  {
   "cell_type": "code",
   "execution_count": 49,
   "metadata": {},
   "outputs": [
    {
     "name": "stdout",
     "output_type": "stream",
     "text": [
      "28.75\n"
     ]
    }
   ],
   "source": [
    "eat_sleep_area = areas[3] + areas[7]\n",
    "print (eat_sleep_area)"
   ]
  },
  {
   "attachments": {},
   "cell_type": "markdown",
   "metadata": {},
   "source": [
    "Trong Python, việc trích xuất nhiều phần tử liên tiếp của một danh sách là rất đơn giản. Ta sử dụng công thức sau:\n",
    "\n",
    "mylist[start:end]\n",
    "để trích từ danh sách mylist các phần tử có chỉ số từ start đến end-1 (phần tử có chỉ số end sẽ không được trích ra)."
   ]
  },
  {
   "attachments": {},
   "cell_type": "markdown",
   "metadata": {},
   "source": [
    "Bài tập:\n",
    "\n",
    "Trích ra 6 phần tử đầu của danh sách areas để khởi tạo danh sách downstairs.\n",
    "Trích ra 4 phần tử còn lại để khởi tạo danh sách upstairs"
   ]
  },
  {
   "cell_type": "code",
   "execution_count": 55,
   "metadata": {},
   "outputs": [
    {
     "name": "stdout",
     "output_type": "stream",
     "text": [
      "['hallway', 11.25, 'kitchen', 18.0, 'living room', 20.0]\n",
      "['bedroom', 10.75, 'bathroom', 9.5]\n"
     ]
    }
   ],
   "source": [
    "downstairs = areas[:6]\n",
    "print(downstairs)\n",
    "upstairs = areas[6:]\n",
    "print(upstairs)"
   ]
  },
  {
   "attachments": {},
   "cell_type": "markdown",
   "metadata": {},
   "source": [
    "Đối với một danh sách chứa các phần tử là danh sách con, để truy cập vào phần tử của danh sách con, ta sẽ dùng nhiều cặp ngoặc vuông liên tiếp nhau. Hãy chạy thử đoạn code dưới đây và khám phá cách hoạt động của nó:\n"
   ]
  },
  {
   "cell_type": "code",
   "execution_count": 60,
   "metadata": {},
   "outputs": [
    {
     "name": "stdout",
     "output_type": "stream",
     "text": [
      "[4, 5, 6]\n"
     ]
    }
   ],
   "source": [
    "x = [[1,2,3],\n",
    "     [4,5,6],\n",
    "     [7,8,9]]\n",
    "print(x[1][:])"
   ]
  }
 ],
 "metadata": {
  "kernelspec": {
   "display_name": "Python 3",
   "language": "python",
   "name": "python3"
  },
  "language_info": {
   "codemirror_mode": {
    "name": "ipython",
    "version": 3
   },
   "file_extension": ".py",
   "mimetype": "text/x-python",
   "name": "python",
   "nbconvert_exporter": "python",
   "pygments_lexer": "ipython3",
   "version": "3.12.1"
  },
  "orig_nbformat": 4,
  "vscode": {
   "interpreter": {
    "hash": "32e8181fce7c3e359c2790b917cd539742ff129bf629b8ad82002a107951ad4e"
   }
  }
 },
 "nbformat": 4,
 "nbformat_minor": 2
}
